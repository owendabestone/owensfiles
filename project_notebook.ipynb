{
 "cells": [
  {
   "cell_type": "markdown",
   "metadata": {},
   "source": [
    "# Chang's Piethon project -- Tic-tac-toe \n",
    "\n",
    "\n",
    "    This is the first computer game I produced. After days of testing, I finally made it to run error-free!\n",
    "    \n",
    "    Four python files are created for this game to run. \n",
    "    \n",
    "    Two of them (openloc.py and find_pos.py) are store two different functions. \n",
    "    \n",
    "    One file (maingame.py ) contains a class object that has five class functions.\n",
    "    \n",
    "    Last one (play.py) uses all the class functions from maingame.py to create a sequence of how the game would run. \n",
    "    \n",
    "    \n",
    "    \n",
    "   \n",
    "    \n",
    "    \n",
    "    "
   ]
  },
  {
   "cell_type": "markdown",
   "metadata": {},
   "source": [
    "## Instruction\n",
    "    To play this game, you would need to run 'import play'.\n",
    "    You will see a 3x3 matrix with each column and row marked by a number. \n",
    "    To select a block, you type two numbers. First number indicating the row and the second number is for column. \n",
    "    For instance: if you would like to place your move onto the top right block, you would type '13' \n",
    "    The game will make you select again if you select a block you have already selected or the computer have selected. \n",
    "    The game will also ask you to reselected if you didn't follow the instruction.\n",
    "    Type 'quit' or 'QUIT' to exit the game.\n",
    "    If you have finished the game and wish to play again, please restart kernel. \n",
    "    \n",
    "    Also you can play the game by running play.py\n",
    "    \n",
    "    Feel free to try and break the game:)"
   ]
  },
  {
   "cell_type": "code",
   "execution_count": 1,
   "metadata": {},
   "outputs": [
    {
     "name": "stdout",
     "output_type": "stream",
     "text": [
      "  1 2 3\n",
      " ―――――――――\n",
      "1ǀ ǀ ǀ ǀ\n",
      " ―――――――――\n",
      "2ǀ ǀ ǀ ǀ\n",
      " ―――――――――\n",
      "3ǀ ǀ ǀ ǀ\n",
      " ―――――――――\n",
      "The block you selected is:quit\n",
      "Hope you liked the game!\n",
      "  1 2 3\n",
      " ―――――――――\n",
      "1ǀ ǀ ǀ ǀ\n",
      " ―――――――――\n",
      "2ǀ ǀ ǀ ǀ\n",
      " ―――――――――\n",
      "3ǀ ǀ ǀ ǀ\n",
      " ―――――――――\n"
     ]
    }
   ],
   "source": [
    "import play"
   ]
  },
  {
   "cell_type": "markdown",
   "metadata": {},
   "source": [
    "## maingame.py\n",
    "    The reason for it being a class object is because I needed to pass all the attributes into all of the functions I created within the object.\n",
    "    The interface you see is a string of character that can be printed out. \n",
    "    \n",
    "    Restarts() resets all the values.\n",
    "    Results() tests if at the current move the game has a winner \n",
    "    Play() Askes user to input a move. \n",
    "    print_board() Prints out the interface from a long list of strings. \n",
    "    bot() Is the computer that play against the player. It detects what has been selected so far and places a random move. \n",
    "    "
   ]
  },
  {
   "cell_type": "markdown",
   "metadata": {},
   "source": [
    "## play.py\n",
    "    play.py creats a sequence of actions the game would run. It is basically the rule of the game. One person draw an X and  then the other person draw an O ,and so on. It will continue to run until MainGame.quit equals to True. Either user can set it to True by typing 'quit', or the game quits itself after the game finishes. "
   ]
  },
  {
   "cell_type": "code",
   "execution_count": 2,
   "metadata": {
    "collapsed": true
   },
   "outputs": [],
   "source": [
    "from test import *\n",
    "test_find_pos1()\n",
    "test_openloc()"
   ]
  },
  {
   "cell_type": "markdown",
   "metadata": {},
   "source": [
    "The above is the test function that tests the two functions I wrote for \"maingame\" to be able to run. "
   ]
  }
 ],
 "metadata": {
  "kernelspec": {
   "display_name": "Python 3",
   "language": "python",
   "name": "python3"
  },
  "language_info": {
   "codemirror_mode": {
    "name": "ipython",
    "version": 3
   },
   "file_extension": ".py",
   "mimetype": "text/x-python",
   "name": "python",
   "nbconvert_exporter": "python",
   "pygments_lexer": "ipython3",
   "version": "3.6.3"
  }
 },
 "nbformat": 4,
 "nbformat_minor": 2
}
